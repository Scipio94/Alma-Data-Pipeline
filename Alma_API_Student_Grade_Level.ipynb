{
 "cells": [
  {
   "cell_type": "markdown",
   "id": "5547306e",
   "metadata": {},
   "source": [
    "## Student ID and Grade Level ID"
   ]
  },
  {
   "cell_type": "markdown",
   "id": "83424ba7",
   "metadata": {},
   "source": [
    "Writing a code that communicates with the Alma url endpoint via an api to return unique student identifiers and the corresponding grade level id and uplaoding data extracted from the API to a BigQuery data warehousing software."
   ]
  },
  {
   "cell_type": "code",
   "execution_count": 1,
   "id": "c520100b",
   "metadata": {},
   "outputs": [],
   "source": [
    "#importing relevant packages\n",
    "import pandas as pd\n",
    "import requests\n",
    "import json\n",
    "from requests.auth import HTTPDigestAuth\n",
    "from google.cloud import bigquery\n",
    "from google.oauth2 import service_account\n",
    "from dotenv import load_dotenv\n",
    "import os"
   ]
  },
  {
   "cell_type": "code",
   "execution_count": 2,
   "id": "506290cf",
   "metadata": {},
   "outputs": [],
   "source": [
    "env_file_path = '/Users/scipio/Alma_API_Scripts/ALMA_API.env'"
   ]
  },
  {
   "cell_type": "code",
   "execution_count": 3,
   "id": "9ecd25b1",
   "metadata": {},
   "outputs": [
    {
     "data": {
      "text/plain": [
       "True"
      ]
     },
     "execution_count": 3,
     "metadata": {},
     "output_type": "execute_result"
    }
   ],
   "source": [
    "load_dotenv(dotenv_path = env_file_path )"
   ]
  },
  {
   "cell_type": "code",
   "execution_count": 4,
   "id": "0e770887",
   "metadata": {},
   "outputs": [],
   "source": [
    "# retrieving releavnt variables from the .env file\n",
    "API_KEY = os.getenv('API_KEY')\n",
    "AUTH_SECRET = os.getenv('AUTH_SECRET')"
   ]
  },
  {
   "cell_type": "markdown",
   "id": "0b49036e",
   "metadata": {},
   "source": [
    "**FCA Current School Year**: 65e8a8461e0c3dd517076bcf\n",
    "\n",
    "**363 Current School Year ID**: 664cc55127c6b4a81806658b"
   ]
  },
  {
   "cell_type": "code",
   "execution_count": 5,
   "id": "bd8b3497",
   "metadata": {},
   "outputs": [],
   "source": [
    "# setting up BigQuery authentication\n",
    "credentials = service_account.Credentials.from_service_account_file(\n",
    "    '/Users/scipio/Downloads/single-being-353600-82aaccaecf53.json'\n",
    "                                                                   )\n",
    "#initializing BigQuery client\n",
    "client = bigquery.Client(credentials=credentials, project=credentials.project_id)"
   ]
  },
  {
   "cell_type": "markdown",
   "id": "3c453e9a",
   "metadata": {},
   "source": [
    "### FCA Student and Grade Level ID"
   ]
  },
  {
   "cell_type": "code",
   "execution_count": 6,
   "id": "8b4728e3",
   "metadata": {},
   "outputs": [],
   "source": [
    "# Defining credential api_key and auth_secret \n",
    "api_key = API_KEY\n",
    "auth_secret = AUTH_SECRET \n",
    "\n",
    "# URL of the API endpoint FCA\n",
    "url= 'https://facs.api.getalma.com/v2/fca/students/grade-levels?schoolYearId=65e8a8461e0c3dd517076bcf' # --> will return grade level ids\n",
    "\n",
    "# Headers\n",
    "headers = {\n",
    "    'Content-Type':'application/json',\n",
    "    'Accept':'application/json, application/problem+json'\n",
    "}\n",
    "\n",
    "\n",
    "# Make the GET request with Digest Authentication\n",
    "response_fca_grade = requests.get(url, headers=headers, auth=HTTPDigestAuth(api_key, auth_secret))\n",
    "\n",
    "# Making GET request into a json object\n",
    "r_fca_grade = response_fca_grade.json()"
   ]
  },
  {
   "cell_type": "code",
   "execution_count": 7,
   "id": "97a0ded7",
   "metadata": {},
   "outputs": [],
   "source": [
    "student_grade_fca = r_fca_grade['response']\n",
    "\n",
    "student_grade_fca = student_grade_fca['students']"
   ]
  },
  {
   "cell_type": "code",
   "execution_count": 8,
   "id": "d2cca54d",
   "metadata": {},
   "outputs": [],
   "source": [
    "# creating a dataframe using the json object\n",
    "r_fca_grade_df = pd.DataFrame(data = student_grade_fca)\n",
    "\n",
    "#data cleaning\n",
    "r_fca_grade_df['gradeLevels'] = r_fca_grade_df['gradeLevels'].astype('string')#--> casting column as string\n",
    "r_fca_grade_df['gradeLevels'] = r_fca_grade_df['gradeLevels'].str.split(',').str[1] #--> splitting on ','\n",
    "r_fca_grade_df['gradelevel_id'] = r_fca_grade_df['gradeLevels'].str.split(':').str[1] #--> splitting on ':'\n",
    "r_fca_grade_df = r_fca_grade_df[['id','gradelevel_id']]#--> returning relevant columns\n",
    "r_fca_grade_df['gradelevel_id'] = r_fca_grade_df['gradelevel_id'].str[2:-1] #--> returning grade level id\n",
    "r_fca_grade_df.rename(columns = {'id':'student_id'},inplace = True) #--> renaming columns"
   ]
  },
  {
   "cell_type": "markdown",
   "id": "3d15bc03",
   "metadata": {},
   "source": [
    "### 363 Student and Grade Level ID"
   ]
  },
  {
   "cell_type": "code",
   "execution_count": 9,
   "id": "a6071289",
   "metadata": {},
   "outputs": [],
   "source": [
    "# Defining credential api_key and auth_secret \n",
    "api_key = API_KEY\n",
    "auth_secret = AUTH_SECRET \n",
    "\n",
    "# URL of the API endpoint FCA\n",
    "url= 'https://facs.api.getalma.com/v2/facs363/students/grade-levels?schoolYearId=664cc55127c6b4a81806658b' # --> will return grade level ids\n",
    "\n",
    "# Headers\n",
    "headers = {\n",
    "    'Content-Type':'application/json',\n",
    "    'Accept':'application/json, application/problem+json'\n",
    "}\n",
    "\n",
    "\n",
    "# Make the GET request with Digest Authentication\n",
    "response_facs363_grade = requests.get(url, headers=headers, auth=HTTPDigestAuth(api_key, auth_secret))\n",
    "\n",
    "# Making GET request into a json object\n",
    "r_facs363_grade = response_facs363_grade.json()"
   ]
  },
  {
   "cell_type": "code",
   "execution_count": 10,
   "id": "a971905e",
   "metadata": {},
   "outputs": [],
   "source": [
    "# indexing dictionary based on the key 'response' key\n",
    "student_grade_facs363 = r_facs363_grade['response']\n",
    "\n",
    "#indexing dictionary based on student key to get student data \n",
    "student_data_facs363 = student_grade_facs363['students']"
   ]
  },
  {
   "cell_type": "markdown",
   "id": "e8fb5fe9",
   "metadata": {},
   "source": [
    "### Transformation"
   ]
  },
  {
   "cell_type": "code",
   "execution_count": 11,
   "id": "60ba40fc",
   "metadata": {},
   "outputs": [],
   "source": [
    "# creating a dataframe using the json object\n",
    "r_facs363_grade_df = pd.DataFrame(data = student_data_facs363)\n",
    "\n",
    "# #data cleaning\n",
    "r_facs363_grade_df['gradeLevels'] = r_facs363_grade_df['gradeLevels'].astype('string')#--> casting column as string\n",
    "r_facs363_grade_df['gradeLevels'] = r_facs363_grade_df['gradeLevels'].str.split(',').str[1] #--> splitting on ','\n",
    "r_facs363_grade_df['gradelevel_id'] = r_facs363_grade_df['gradeLevels'].str.split(':').str[1] #--> splitting on ':'\n",
    "r_facs363_grade_df = r_facs363_grade_df[['id','gradelevel_id']]#--> returning relevant columns\n",
    "r_facs363_grade_df['gradelevel_id'] = r_facs363_grade_df['gradelevel_id'].str[2:-1]#--> returning grade level id\n",
    "r_facs363_grade_df.rename(columns = {'id':'student_id'},inplace = True) #--> renaming columns"
   ]
  },
  {
   "cell_type": "code",
   "execution_count": 12,
   "id": "07fa8f9e",
   "metadata": {},
   "outputs": [],
   "source": [
    "#concating dataframes\n",
    "df_student_id = pd.concat([r_facs363_grade_df,r_fca_grade_df])"
   ]
  },
  {
   "cell_type": "code",
   "execution_count": 13,
   "id": "92b5e9e9",
   "metadata": {},
   "outputs": [
    {
     "data": {
      "text/plain": [
       "(1229, 2)"
      ]
     },
     "execution_count": 13,
     "metadata": {},
     "output_type": "execute_result"
    }
   ],
   "source": [
    "df_student_id.shape"
   ]
  },
  {
   "cell_type": "code",
   "execution_count": 14,
   "id": "7a107ea9",
   "metadata": {},
   "outputs": [
    {
     "name": "stdout",
     "output_type": "stream",
     "text": [
      "<class 'pandas.core.frame.DataFrame'>\n",
      "Int64Index: 1229 entries, 0 to 370\n",
      "Data columns (total 2 columns):\n",
      " #   Column         Non-Null Count  Dtype \n",
      "---  ------         --------------  ----- \n",
      " 0   student_id     1229 non-null   object\n",
      " 1   gradelevel_id  1229 non-null   object\n",
      "dtypes: object(2)\n",
      "memory usage: 28.8+ KB\n"
     ]
    }
   ],
   "source": [
    "df_student_id.info()"
   ]
  },
  {
   "cell_type": "markdown",
   "id": "2d00cf24",
   "metadata": {},
   "source": [
    "### Load"
   ]
  },
  {
   "cell_type": "code",
   "execution_count": 15,
   "id": "e07b8a96",
   "metadata": {
    "scrolled": true
   },
   "outputs": [
    {
     "name": "stderr",
     "output_type": "stream",
     "text": [
      "100%|███████████████████████████████████████████| 1/1 [00:00<00:00, 3964.37it/s]\n"
     ]
    }
   ],
   "source": [
    "# loading into BigQuery database\n",
    "table_id = 'Alma_Data_API.Student_Grade_Level_ID' #--> dataset id and table name\n",
    "\n",
    "df_student_id.to_gbq(table_id, project_id=credentials.project_id, if_exists='replace', credentials=credentials)"
   ]
  }
 ],
 "metadata": {
  "kernelspec": {
   "display_name": "Python 3 (ipykernel)",
   "language": "python",
   "name": "python3"
  },
  "language_info": {
   "codemirror_mode": {
    "name": "ipython",
    "version": 3
   },
   "file_extension": ".py",
   "mimetype": "text/x-python",
   "name": "python",
   "nbconvert_exporter": "python",
   "pygments_lexer": "ipython3",
   "version": "3.10.9"
  }
 },
 "nbformat": 4,
 "nbformat_minor": 5
}
