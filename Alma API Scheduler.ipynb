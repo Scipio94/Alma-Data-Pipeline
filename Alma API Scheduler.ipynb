{
 "cells": [
  {
   "cell_type": "markdown",
   "id": "23174d37",
   "metadata": {},
   "source": [
    "# Alma API Schedule Script"
   ]
  },
  {
   "cell_type": "code",
   "execution_count": 4,
   "id": "17f84c91",
   "metadata": {},
   "outputs": [
    {
     "name": "stdout",
     "output_type": "stream",
     "text": [
      "Collecting schedule\n",
      "  Downloading schedule-1.2.2-py3-none-any.whl (12 kB)\n",
      "Installing collected packages: schedule\n",
      "Successfully installed schedule-1.2.2\n",
      "Note: you may need to restart the kernel to use updated packages.\n"
     ]
    }
   ],
   "source": [
    "# install schedule package\n",
    "pip install schedule"
   ]
  },
  {
   "cell_type": "code",
   "execution_count": 5,
   "id": "a482808c",
   "metadata": {},
   "outputs": [],
   "source": [
    "# importing packages\n",
    "import schedule\n",
    "import time\n",
    "import os\n",
    "import subprocess"
   ]
  },
  {
   "cell_type": "code",
   "execution_count": 6,
   "id": "4796fadf",
   "metadata": {},
   "outputs": [],
   "source": [
    "# functions to run external scripts\n",
    "def run_script_1():\n",
    "    subprocess.run(['python3','/Users/scipio/Alma API Students.ipynb'])\n",
    "    \n",
    "def run_script_2():\n",
    "    subprocess.run(['python3','/Users/scipio/Alma API Student Grade-Level ID.ipynb'])   \n",
    "    \n",
    "def run_script_3():\n",
    "    subprocess.run(['python3','/Users/scipio/Alma API Student Grade-Level.ipynb'])\n"
   ]
  },
  {
   "cell_type": "code",
   "execution_count": 7,
   "id": "a26e5697",
   "metadata": {},
   "outputs": [
    {
     "data": {
      "text/plain": [
       "Every 1 day at 09:00:00 do run_script_3() (last run: [never], next run: 2024-08-14 09:00:00)"
      ]
     },
     "execution_count": 7,
     "metadata": {},
     "output_type": "execute_result"
    }
   ],
   "source": [
    "# scheduling scripts to run everyday at 9:00AM\n",
    "schedule.every().day.at(\"09:00\").do(run_script_1)\n",
    "schedule.every().day.at(\"09:00\").do(run_script_2)\n",
    "schedule.every().day.at(\"09:00\").do(run_script_3)"
   ]
  }
 ],
 "metadata": {
  "kernelspec": {
   "display_name": "Python 3 (ipykernel)",
   "language": "python",
   "name": "python3"
  },
  "language_info": {
   "codemirror_mode": {
    "name": "ipython",
    "version": 3
   },
   "file_extension": ".py",
   "mimetype": "text/x-python",
   "name": "python",
   "nbconvert_exporter": "python",
   "pygments_lexer": "ipython3",
   "version": "3.10.9"
  }
 },
 "nbformat": 4,
 "nbformat_minor": 5
}
