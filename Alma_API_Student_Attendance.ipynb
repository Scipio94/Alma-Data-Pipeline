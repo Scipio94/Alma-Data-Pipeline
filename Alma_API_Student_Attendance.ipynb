{
 "cells": [
  {
   "cell_type": "markdown",
   "id": "a46daaab",
   "metadata": {},
   "source": [
    "## Alma API Single Student Attendance\n",
    "\n",
    "Writing a code that returns the attendance data of a signle student from the Alma API url endpoint"
   ]
  },
  {
   "cell_type": "code",
   "execution_count": 1,
   "id": "61a23b80",
   "metadata": {},
   "outputs": [],
   "source": [
    "#importing relevant packages\n",
    "import pandas as pd\n",
    "import requests\n",
    "import json\n",
    "from requests.auth import HTTPDigestAuth\n",
    "from google.cloud import bigquery\n",
    "from google.oauth2 import service_account"
   ]
  },
  {
   "cell_type": "markdown",
   "id": "8ae4352f",
   "metadata": {},
   "source": [
    "**FCA Current School Year**: 65e8a8461e0c3dd517076bcf\n",
    "\n",
    "**363 Current School Year ID**: 664cc55127c6b4a81806658b"
   ]
  },
  {
   "cell_type": "code",
   "execution_count": 2,
   "id": "98235295",
   "metadata": {},
   "outputs": [],
   "source": [
    "# setting up BigQuery authentication\n",
    "credentials = service_account.Credentials.from_service_account_file(\n",
    "    '/Users/scipio/Downloads/single-being-353600-82aaccaecf53.json'\n",
    "                                                                   )\n",
    "#initializing BigQuery client\n",
    "client = bigquery.Client(credentials=credentials, project=credentials.project_id)"
   ]
  },
  {
   "cell_type": "markdown",
   "id": "90648343",
   "metadata": {},
   "source": [
    "### Extraction of Student Attendance Data FCA"
   ]
  },
  {
   "cell_type": "code",
   "execution_count": 3,
   "id": "c87622a6",
   "metadata": {},
   "outputs": [],
   "source": [
    "# Defining credential api_key and auth_secret \n",
    "api_key = '075DWGKCVHTEH1W6497W'\n",
    "auth_secret = 'JlpYYSZUVjVWZGpQN2JKSndPRHM0TV9maChtU3VONkJvakhfaGVjUQ=='\n",
    "\n",
    "# URL of the API endpoint FCA\n",
    "url= 'https://facs.api.getalma.com/v2/fca/students/60ca0ec59d6473552c13452b/attendance?schoolYearId=65e8a8461e0c3dd517076bcf' # --> will return grade level ids\n",
    "\n",
    "# Headers\n",
    "headers = {\n",
    "    'Content-Type':'application/json',\n",
    "    'Accept':'application/json, application/problem+json'\n",
    "}\n",
    "\n",
    "\n",
    "# Make the GET request with Digest Authentication\n",
    "response_fca_att = requests.get(url, headers=headers, auth=HTTPDigestAuth(api_key, auth_secret))\n",
    "\n",
    "# Making GET request into a json object\n",
    "r_fca_att = response_fca_att.json()\n",
    "\n",
    "# Accessing 'response' key value to return lists of dictionaries\n",
    "r_fca_att = r_fca_att['response']"
   ]
  },
  {
   "cell_type": "code",
   "execution_count": 4,
   "id": "b5e3ef1e",
   "metadata": {},
   "outputs": [],
   "source": [
    "# creating dataframe for attendance extraction for fca student\n",
    "fca_att_df = pd.DataFrame(r_fca_att)\n",
    "\n",
    "# adding primary key student_id\n",
    "fca_att_df['student_id'] = '60ca0ec59d6473552c13452b'"
   ]
  },
  {
   "cell_type": "markdown",
   "id": "19e69f0f",
   "metadata": {},
   "source": [
    "### Extraction of Student Attendance Data FACS 363"
   ]
  },
  {
   "cell_type": "code",
   "execution_count": 5,
   "id": "098e5c73",
   "metadata": {},
   "outputs": [],
   "source": [
    "# Defining credential api_key and auth_secret \n",
    "api_key = '075DWGKCVHTEH1W6497W'\n",
    "auth_secret = 'JlpYYSZUVjVWZGpQN2JKSndPRHM0TV9maChtU3VONkJvakhfaGVjUQ=='\n",
    "\n",
    "# URL of the API endpoint FCA\n",
    "url= 'https://facs.api.getalma.com/v2/facs363/students/60c9f24cb85e9d5e074016cf/attendance?schoolYearId=664cc55127c6b4a81806658b' # --> will return grade level ids\n",
    "\n",
    "# Headers\n",
    "headers = {\n",
    "    'Content-Type':'application/json',\n",
    "    'Accept':'application/json, application/problem+json'\n",
    "}\n",
    "\n",
    "\n",
    "# Make the GET request with Digest Authentication\n",
    "response_363_att = requests.get(url, headers=headers, auth=HTTPDigestAuth(api_key, auth_secret))\n",
    "\n",
    "# Making GET requests into a json object\n",
    "r_363_att = response_363_att.json()\n",
    "\n",
    "\n",
    "# Accessing 'response' key value to return lists of dictionaries\n",
    "r_363_att = r_363_att['response']"
   ]
  },
  {
   "cell_type": "code",
   "execution_count": 6,
   "id": "63347205",
   "metadata": {},
   "outputs": [],
   "source": [
    "# creating a df for the \n",
    "facs_363_df = pd.DataFrame(r_363_att)\n",
    "\n",
    "facs_363_df['student_id'] = '60c9f24cb85e9d5e074016cf'"
   ]
  },
  {
   "cell_type": "code",
   "execution_count": 7,
   "id": "6cbfc3fd",
   "metadata": {},
   "outputs": [],
   "source": [
    "# concating dfs from resoective campuses\n",
    "df = pd.concat([fca_att_df,facs_363_df])"
   ]
  },
  {
   "cell_type": "code",
   "execution_count": 8,
   "id": "10317bf0",
   "metadata": {},
   "outputs": [
    {
     "data": {
      "text/plain": [
       "(4, 14)"
      ]
     },
     "execution_count": 8,
     "metadata": {},
     "output_type": "execute_result"
    }
   ],
   "source": [
    "df.shape"
   ]
  },
  {
   "cell_type": "code",
   "execution_count": 9,
   "id": "c2aa2527",
   "metadata": {},
   "outputs": [
    {
     "name": "stdout",
     "output_type": "stream",
     "text": [
      "<class 'pandas.core.frame.DataFrame'>\n",
      "Int64Index: 4 entries, 0 to 1\n",
      "Data columns (total 14 columns):\n",
      " #   Column            Non-Null Count  Dtype \n",
      "---  ------            --------------  ----- \n",
      " 0   id                4 non-null      object\n",
      " 1   schoolYearId      4 non-null      object\n",
      " 2   date              4 non-null      object\n",
      " 3   attendanceCodeId  4 non-null      object\n",
      " 4   adminLocked       4 non-null      bool  \n",
      " 5   minutes           4 non-null      int64 \n",
      " 6   minutesExpected   4 non-null      int64 \n",
      " 7   note              4 non-null      object\n",
      " 8   reportedStatus    4 non-null      object\n",
      " 9   status            4 non-null      object\n",
      " 10  created           4 non-null      object\n",
      " 11  modified          4 non-null      object\n",
      " 12  statusModifier    0 non-null      object\n",
      " 13  student_id        4 non-null      object\n",
      "dtypes: bool(1), int64(2), object(11)\n",
      "memory usage: 452.0+ bytes\n"
     ]
    }
   ],
   "source": [
    "df.info()"
   ]
  },
  {
   "cell_type": "code",
   "execution_count": 10,
   "id": "171ce43a",
   "metadata": {},
   "outputs": [],
   "source": [
    "# returning relevaant columns\n",
    "df = df[['student_id', 'date','status']]"
   ]
  },
  {
   "cell_type": "code",
   "execution_count": 11,
   "id": "55e8a767",
   "metadata": {
    "scrolled": true
   },
   "outputs": [
    {
     "data": {
      "text/html": [
       "<div>\n",
       "<style scoped>\n",
       "    .dataframe tbody tr th:only-of-type {\n",
       "        vertical-align: middle;\n",
       "    }\n",
       "\n",
       "    .dataframe tbody tr th {\n",
       "        vertical-align: top;\n",
       "    }\n",
       "\n",
       "    .dataframe thead th {\n",
       "        text-align: right;\n",
       "    }\n",
       "</style>\n",
       "<table border=\"1\" class=\"dataframe\">\n",
       "  <thead>\n",
       "    <tr style=\"text-align: right;\">\n",
       "      <th></th>\n",
       "      <th>student_id</th>\n",
       "      <th>date</th>\n",
       "      <th>status</th>\n",
       "    </tr>\n",
       "  </thead>\n",
       "  <tbody>\n",
       "    <tr>\n",
       "      <th>0</th>\n",
       "      <td>60ca0ec59d6473552c13452b</td>\n",
       "      <td>2024-08-19</td>\n",
       "      <td>Present</td>\n",
       "    </tr>\n",
       "    <tr>\n",
       "      <th>1</th>\n",
       "      <td>60ca0ec59d6473552c13452b</td>\n",
       "      <td>2024-08-20</td>\n",
       "      <td>Present</td>\n",
       "    </tr>\n",
       "    <tr>\n",
       "      <th>0</th>\n",
       "      <td>60c9f24cb85e9d5e074016cf</td>\n",
       "      <td>2024-08-19</td>\n",
       "      <td>Present</td>\n",
       "    </tr>\n",
       "    <tr>\n",
       "      <th>1</th>\n",
       "      <td>60c9f24cb85e9d5e074016cf</td>\n",
       "      <td>2024-08-20</td>\n",
       "      <td>Present</td>\n",
       "    </tr>\n",
       "  </tbody>\n",
       "</table>\n",
       "</div>"
      ],
      "text/plain": [
       "                 student_id        date   status\n",
       "0  60ca0ec59d6473552c13452b  2024-08-19  Present\n",
       "1  60ca0ec59d6473552c13452b  2024-08-20  Present\n",
       "0  60c9f24cb85e9d5e074016cf  2024-08-19  Present\n",
       "1  60c9f24cb85e9d5e074016cf  2024-08-20  Present"
      ]
     },
     "execution_count": 11,
     "metadata": {},
     "output_type": "execute_result"
    }
   ],
   "source": [
    "df"
   ]
  },
  {
   "cell_type": "markdown",
   "id": "1942e6b5",
   "metadata": {},
   "source": [
    "### Load"
   ]
  },
  {
   "cell_type": "code",
   "execution_count": 12,
   "id": "a1ff2d05",
   "metadata": {},
   "outputs": [
    {
     "name": "stderr",
     "output_type": "stream",
     "text": [
      "100%|█████████████████████████████████████████████████████████████████████████████████████████████████████████████████████████████████████████████████████████████████████████| 1/1 [00:00<00:00, 4563.99it/s]\n"
     ]
    }
   ],
   "source": [
    "# loading into BigQuery database\n",
    "table_id = 'Alma_Data_API.Student_Attendance'\n",
    "\n",
    "# loading df to the BigQuery database to append data to table with each upload\n",
    "df.to_gbq(table_id, project_id=credentials.project_id, if_exists='replace', credentials=credentials)"
   ]
  }
 ],
 "metadata": {
  "kernelspec": {
   "display_name": "Python 3 (ipykernel)",
   "language": "python",
   "name": "python3"
  },
  "language_info": {
   "codemirror_mode": {
    "name": "ipython",
    "version": 3
   },
   "file_extension": ".py",
   "mimetype": "text/x-python",
   "name": "python",
   "nbconvert_exporter": "python",
   "pygments_lexer": "ipython3",
   "version": "3.10.9"
  }
 },
 "nbformat": 4,
 "nbformat_minor": 5
}
