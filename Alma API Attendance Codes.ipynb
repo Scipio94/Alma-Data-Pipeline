{
 "cells": [
  {
   "cell_type": "markdown",
   "id": "f0653421",
   "metadata": {},
   "source": [
    "## Attendance Codes"
   ]
  },
  {
   "cell_type": "code",
   "execution_count": 21,
   "id": "02766ae2",
   "metadata": {},
   "outputs": [],
   "source": [
    "#importing relevant packages\n",
    "import pandas as pd\n",
    "import requests\n",
    "import json\n",
    "from requests.auth import HTTPDigestAuth\n",
    "from google.cloud import bigquery\n",
    "from google.oauth2 import service_account"
   ]
  },
  {
   "cell_type": "markdown",
   "id": "ad5479ff",
   "metadata": {},
   "source": [
    "**FCA Current School Year**: 65e8a8461e0c3dd517076bcf\n",
    "\n",
    "**363 Current School Year ID**: 664cc55127c6b4a81806658b"
   ]
  },
  {
   "cell_type": "code",
   "execution_count": 22,
   "id": "969266d9",
   "metadata": {},
   "outputs": [],
   "source": [
    "# setting up BigQuery authentication\n",
    "credentials = service_account.Credentials.from_service_account_file(\n",
    "    '/Users/scipio/Downloads/single-being-353600-82aaccaecf53.json'\n",
    "                                                                   )\n",
    "#initializing BigQuery client\n",
    "client = bigquery.Client(credentials=credentials, project=credentials.project_id)"
   ]
  },
  {
   "cell_type": "markdown",
   "id": "a0560751",
   "metadata": {},
   "source": [
    "### FCA Attendance Codes"
   ]
  },
  {
   "cell_type": "code",
   "execution_count": 2,
   "id": "90732eb3",
   "metadata": {},
   "outputs": [],
   "source": [
    "# Defining credential api_key and auth_secret \n",
    "api_key = '075DWGKCVHTEH1W6497W'\n",
    "auth_secret = 'JlpYYSZUVjVWZGpQN2JKSndPRHM0TV9maChtU3VONkJvakhfaGVjUQ=='\n",
    "\n",
    "# URL of the API endpoint FCA\n",
    "url= 'https://facs.api.getalma.com/v2/fca/attendance-codes?schoolYearId=65e8a8461e0c3dd517076bcf' # --> will return grade level ids\n",
    "\n",
    "# Headers\n",
    "headers = {\n",
    "    'Content-Type':'application/json',\n",
    "    'Accept':'application/json, application/problem+json'\n",
    "}\n",
    "\n",
    "\n",
    "# Headers\n",
    "headers = {\n",
    "    'Content-Type':'application/json',\n",
    "    'Accept':'application/json, application/problem+json'\n",
    "}\n",
    "\n",
    "\n",
    "# Make the GET request with Digest Authentication\n",
    "response = requests.get(url, headers=headers, auth=HTTPDigestAuth(api_key, auth_secret))\n",
    "r_fca_att = response.json() #--> list of dictionaries\n",
    "r_fca_att = r_fca_att['response'] #--> indexing dict based on 'response' key value"
   ]
  },
  {
   "cell_type": "code",
   "execution_count": 7,
   "id": "3e35933b",
   "metadata": {},
   "outputs": [],
   "source": [
    "# creating json string object\n",
    "json_fca_att_data = json.dumps(r_fca_att, indent = 4)\n",
    "\n",
    "# creating python dictionary object\n",
    "json_fca_att_data_loaded = json.loads(json_fca_att_data)\n",
    "\n",
    "# creating df\n",
    "r_fca_att_df = pd.DataFrame(data = json_fca_att_data_loaded)"
   ]
  },
  {
   "cell_type": "code",
   "execution_count": 9,
   "id": "2025946a",
   "metadata": {},
   "outputs": [
    {
     "data": {
      "text/plain": [
       "(27, 12)"
      ]
     },
     "execution_count": 9,
     "metadata": {},
     "output_type": "execute_result"
    }
   ],
   "source": [
    "r_fca_att_df.shape"
   ]
  },
  {
   "cell_type": "code",
   "execution_count": 10,
   "id": "3f73b51a",
   "metadata": {},
   "outputs": [
    {
     "name": "stdout",
     "output_type": "stream",
     "text": [
      "<class 'pandas.core.frame.DataFrame'>\n",
      "RangeIndex: 27 entries, 0 to 26\n",
      "Data columns (total 12 columns):\n",
      " #   Column              Non-Null Count  Dtype \n",
      "---  ------              --------------  ----- \n",
      " 0   id                  27 non-null     object\n",
      " 1   name                27 non-null     object\n",
      " 2   abbreviation        27 non-null     object\n",
      " 3   status              27 non-null     object\n",
      " 4   statusModifier      19 non-null     object\n",
      " 5   isSchoolAttendance  27 non-null     bool  \n",
      " 6   schoolYearId        27 non-null     object\n",
      " 7   changeLogId         27 non-null     object\n",
      " 8   effectiveDate       27 non-null     object\n",
      " 9   created             27 non-null     object\n",
      " 10  modified            27 non-null     object\n",
      " 11  adminLocked         23 non-null     object\n",
      "dtypes: bool(1), object(11)\n",
      "memory usage: 2.5+ KB\n"
     ]
    }
   ],
   "source": [
    "r_fca_att_df.info()"
   ]
  },
  {
   "cell_type": "code",
   "execution_count": 11,
   "id": "66eed7b3",
   "metadata": {},
   "outputs": [
    {
     "data": {
      "text/html": [
       "<div>\n",
       "<style scoped>\n",
       "    .dataframe tbody tr th:only-of-type {\n",
       "        vertical-align: middle;\n",
       "    }\n",
       "\n",
       "    .dataframe tbody tr th {\n",
       "        vertical-align: top;\n",
       "    }\n",
       "\n",
       "    .dataframe thead th {\n",
       "        text-align: right;\n",
       "    }\n",
       "</style>\n",
       "<table border=\"1\" class=\"dataframe\">\n",
       "  <thead>\n",
       "    <tr style=\"text-align: right;\">\n",
       "      <th></th>\n",
       "      <th>id</th>\n",
       "      <th>name</th>\n",
       "      <th>abbreviation</th>\n",
       "      <th>status</th>\n",
       "      <th>statusModifier</th>\n",
       "      <th>isSchoolAttendance</th>\n",
       "      <th>schoolYearId</th>\n",
       "      <th>changeLogId</th>\n",
       "      <th>effectiveDate</th>\n",
       "      <th>created</th>\n",
       "      <th>modified</th>\n",
       "      <th>adminLocked</th>\n",
       "    </tr>\n",
       "  </thead>\n",
       "  <tbody>\n",
       "    <tr>\n",
       "      <th>0</th>\n",
       "      <td>59a461bf3f5720a630005242</td>\n",
       "      <td>Absent (Unexcused)</td>\n",
       "      <td>AU</td>\n",
       "      <td>Absent</td>\n",
       "      <td>Unexcused</td>\n",
       "      <td>False</td>\n",
       "      <td>65e8a8461e0c3dd517076bcf</td>\n",
       "      <td>65e8a848b5c2683636075f6f</td>\n",
       "      <td>2024-08-19</td>\n",
       "      <td>2021-04-22T19:15:05+00:00</td>\n",
       "      <td>2024-03-06T17:30:48+00:00</td>\n",
       "      <td>NaN</td>\n",
       "    </tr>\n",
       "    <tr>\n",
       "      <th>1</th>\n",
       "      <td>6308b76205c83f38ff280cf2</td>\n",
       "      <td>Absent (COVID Excused)</td>\n",
       "      <td>ACE</td>\n",
       "      <td>Absent</td>\n",
       "      <td>Excused</td>\n",
       "      <td>True</td>\n",
       "      <td>65e8a8461e0c3dd517076bcf</td>\n",
       "      <td>65e8a848b5c2683636075f67</td>\n",
       "      <td>2024-08-19</td>\n",
       "      <td>2022-08-26T12:06:58+00:00</td>\n",
       "      <td>2024-03-06T17:30:48+00:00</td>\n",
       "      <td>False</td>\n",
       "    </tr>\n",
       "    <tr>\n",
       "      <th>2</th>\n",
       "      <td>624d8d4e50c3a07bd11ad0ef</td>\n",
       "      <td>Present- Home Instruction</td>\n",
       "      <td>HI</td>\n",
       "      <td>Present</td>\n",
       "      <td>None</td>\n",
       "      <td>True</td>\n",
       "      <td>65e8a8461e0c3dd517076bcf</td>\n",
       "      <td>65e8a848b5c2683636075f5d</td>\n",
       "      <td>2024-08-19</td>\n",
       "      <td>2022-04-06T12:53:34+00:00</td>\n",
       "      <td>2024-03-06T17:30:48+00:00</td>\n",
       "      <td>False</td>\n",
       "    </tr>\n",
       "    <tr>\n",
       "      <th>3</th>\n",
       "      <td>65d61099295dd3ef22071462</td>\n",
       "      <td>Absent (OSS-Excused)</td>\n",
       "      <td>AEO</td>\n",
       "      <td>Absent</td>\n",
       "      <td>Excused</td>\n",
       "      <td>False</td>\n",
       "      <td>65e8a8461e0c3dd517076bcf</td>\n",
       "      <td>65e8a848b5c2683636075f6b</td>\n",
       "      <td>2024-08-19</td>\n",
       "      <td>2024-02-21T15:02:49+00:00</td>\n",
       "      <td>2024-03-06T17:30:48+00:00</td>\n",
       "      <td>True</td>\n",
       "    </tr>\n",
       "    <tr>\n",
       "      <th>4</th>\n",
       "      <td>62fe32c8809b4355ec5cbf4d</td>\n",
       "      <td>Absent (Unexcused- Remote)</td>\n",
       "      <td>AUR</td>\n",
       "      <td>Absent</td>\n",
       "      <td>Unexcused</td>\n",
       "      <td>True</td>\n",
       "      <td>65e8a8461e0c3dd517076bcf</td>\n",
       "      <td>65e8a848b5c2683636075f71</td>\n",
       "      <td>2024-08-19</td>\n",
       "      <td>2022-08-18T12:38:32+00:00</td>\n",
       "      <td>2024-03-06T17:30:48+00:00</td>\n",
       "      <td>False</td>\n",
       "    </tr>\n",
       "  </tbody>\n",
       "</table>\n",
       "</div>"
      ],
      "text/plain": [
       "                         id                        name abbreviation   status  \\\n",
       "0  59a461bf3f5720a630005242          Absent (Unexcused)           AU   Absent   \n",
       "1  6308b76205c83f38ff280cf2      Absent (COVID Excused)          ACE   Absent   \n",
       "2  624d8d4e50c3a07bd11ad0ef   Present- Home Instruction           HI  Present   \n",
       "3  65d61099295dd3ef22071462        Absent (OSS-Excused)          AEO   Absent   \n",
       "4  62fe32c8809b4355ec5cbf4d  Absent (Unexcused- Remote)          AUR   Absent   \n",
       "\n",
       "  statusModifier  isSchoolAttendance              schoolYearId  \\\n",
       "0      Unexcused               False  65e8a8461e0c3dd517076bcf   \n",
       "1        Excused                True  65e8a8461e0c3dd517076bcf   \n",
       "2           None                True  65e8a8461e0c3dd517076bcf   \n",
       "3        Excused               False  65e8a8461e0c3dd517076bcf   \n",
       "4      Unexcused                True  65e8a8461e0c3dd517076bcf   \n",
       "\n",
       "                changeLogId effectiveDate                    created  \\\n",
       "0  65e8a848b5c2683636075f6f    2024-08-19  2021-04-22T19:15:05+00:00   \n",
       "1  65e8a848b5c2683636075f67    2024-08-19  2022-08-26T12:06:58+00:00   \n",
       "2  65e8a848b5c2683636075f5d    2024-08-19  2022-04-06T12:53:34+00:00   \n",
       "3  65e8a848b5c2683636075f6b    2024-08-19  2024-02-21T15:02:49+00:00   \n",
       "4  65e8a848b5c2683636075f71    2024-08-19  2022-08-18T12:38:32+00:00   \n",
       "\n",
       "                    modified adminLocked  \n",
       "0  2024-03-06T17:30:48+00:00         NaN  \n",
       "1  2024-03-06T17:30:48+00:00       False  \n",
       "2  2024-03-06T17:30:48+00:00       False  \n",
       "3  2024-03-06T17:30:48+00:00        True  \n",
       "4  2024-03-06T17:30:48+00:00       False  "
      ]
     },
     "execution_count": 11,
     "metadata": {},
     "output_type": "execute_result"
    }
   ],
   "source": [
    "r_fca_att_df.head()"
   ]
  },
  {
   "cell_type": "markdown",
   "id": "c1fe8101",
   "metadata": {},
   "source": [
    "### FACS 363 Attendance Codes"
   ]
  },
  {
   "cell_type": "code",
   "execution_count": 12,
   "id": "c3032d8c",
   "metadata": {},
   "outputs": [],
   "source": [
    "# Defining credential api_key and auth_secret \n",
    "api_key = '075DWGKCVHTEH1W6497W'\n",
    "auth_secret = 'JlpYYSZUVjVWZGpQN2JKSndPRHM0TV9maChtU3VONkJvakhfaGVjUQ=='\n",
    "\n",
    "# URL of the API endpoint FCA\n",
    "url= 'https://facs.api.getalma.com/v2/facs363/attendance-codes?schoolYearId=664cc55127c6b4a81806658b' # --> will return grade level ids\n",
    "\n",
    "# Headers\n",
    "headers = {\n",
    "    'Content-Type':'application/json',\n",
    "    'Accept':'application/json, application/problem+json'\n",
    "}\n",
    "\n",
    "\n",
    "# Headers\n",
    "headers = {\n",
    "    'Content-Type':'application/json',\n",
    "    'Accept':'application/json, application/problem+json'\n",
    "}\n",
    "\n",
    "\n",
    "# Make the GET request with Digest Authentication\n",
    "response = requests.get(url, headers=headers, auth=HTTPDigestAuth(api_key, auth_secret))\n",
    "r_facs363_att = response.json() #--> list of dictionaries\n",
    "r_facs363_att = r_facs363_att['response'] #--> indexing dict based on 'response' key value"
   ]
  },
  {
   "cell_type": "code",
   "execution_count": 13,
   "id": "4bb0db59",
   "metadata": {},
   "outputs": [],
   "source": [
    "# creating json string object\n",
    "json_facs363_att_data = json.dumps(r_facs363_att, indent = 4)\n",
    "\n",
    "# creating python dictionary object\n",
    "json_facs363_att_data_loaded = json.loads(json_facs363_att_data)\n",
    "\n",
    "# creating df\n",
    "r_facs363_att_df = pd.DataFrame(data = json_facs363_att_data_loaded)"
   ]
  },
  {
   "cell_type": "code",
   "execution_count": 14,
   "id": "a7828037",
   "metadata": {},
   "outputs": [
    {
     "data": {
      "text/plain": [
       "(25, 12)"
      ]
     },
     "execution_count": 14,
     "metadata": {},
     "output_type": "execute_result"
    }
   ],
   "source": [
    "r_facs363_att_df.shape"
   ]
  },
  {
   "cell_type": "code",
   "execution_count": 15,
   "id": "91874e59",
   "metadata": {},
   "outputs": [
    {
     "name": "stdout",
     "output_type": "stream",
     "text": [
      "<class 'pandas.core.frame.DataFrame'>\n",
      "RangeIndex: 25 entries, 0 to 24\n",
      "Data columns (total 12 columns):\n",
      " #   Column              Non-Null Count  Dtype \n",
      "---  ------              --------------  ----- \n",
      " 0   id                  25 non-null     object\n",
      " 1   name                25 non-null     object\n",
      " 2   abbreviation        25 non-null     object\n",
      " 3   status              25 non-null     object\n",
      " 4   statusModifier      17 non-null     object\n",
      " 5   adminLocked         20 non-null     object\n",
      " 6   isSchoolAttendance  25 non-null     bool  \n",
      " 7   schoolYearId        25 non-null     object\n",
      " 8   changeLogId         25 non-null     object\n",
      " 9   effectiveDate       25 non-null     object\n",
      " 10  created             25 non-null     object\n",
      " 11  modified            25 non-null     object\n",
      "dtypes: bool(1), object(11)\n",
      "memory usage: 2.3+ KB\n"
     ]
    }
   ],
   "source": [
    "r_facs363_att_df.info()"
   ]
  },
  {
   "cell_type": "code",
   "execution_count": 16,
   "id": "faa68caa",
   "metadata": {},
   "outputs": [
    {
     "data": {
      "text/html": [
       "<div>\n",
       "<style scoped>\n",
       "    .dataframe tbody tr th:only-of-type {\n",
       "        vertical-align: middle;\n",
       "    }\n",
       "\n",
       "    .dataframe tbody tr th {\n",
       "        vertical-align: top;\n",
       "    }\n",
       "\n",
       "    .dataframe thead th {\n",
       "        text-align: right;\n",
       "    }\n",
       "</style>\n",
       "<table border=\"1\" class=\"dataframe\">\n",
       "  <thead>\n",
       "    <tr style=\"text-align: right;\">\n",
       "      <th></th>\n",
       "      <th>id</th>\n",
       "      <th>name</th>\n",
       "      <th>abbreviation</th>\n",
       "      <th>status</th>\n",
       "      <th>statusModifier</th>\n",
       "      <th>adminLocked</th>\n",
       "      <th>isSchoolAttendance</th>\n",
       "      <th>schoolYearId</th>\n",
       "      <th>changeLogId</th>\n",
       "      <th>effectiveDate</th>\n",
       "      <th>created</th>\n",
       "      <th>modified</th>\n",
       "    </tr>\n",
       "  </thead>\n",
       "  <tbody>\n",
       "    <tr>\n",
       "      <th>0</th>\n",
       "      <td>59a461bf3f5720a630005245</td>\n",
       "      <td>Late (Excused)</td>\n",
       "      <td>LE</td>\n",
       "      <td>Late</td>\n",
       "      <td>Excused</td>\n",
       "      <td>True</td>\n",
       "      <td>False</td>\n",
       "      <td>664cc55127c6b4a81806658b</td>\n",
       "      <td>664cc554abac347fac042cf4</td>\n",
       "      <td>2024-08-19</td>\n",
       "      <td>2021-04-22T19:15:05+00:00</td>\n",
       "      <td>2024-05-21T16:01:24+00:00</td>\n",
       "    </tr>\n",
       "    <tr>\n",
       "      <th>1</th>\n",
       "      <td>59a461823f5720a610005368</td>\n",
       "      <td>Returned</td>\n",
       "      <td>R</td>\n",
       "      <td>Returned</td>\n",
       "      <td>None</td>\n",
       "      <td>False</td>\n",
       "      <td>True</td>\n",
       "      <td>664cc55127c6b4a81806658b</td>\n",
       "      <td>664cc554abac347fac042d04</td>\n",
       "      <td>2024-08-19</td>\n",
       "      <td>2021-04-22T19:15:05+00:00</td>\n",
       "      <td>2024-05-21T16:01:24+00:00</td>\n",
       "    </tr>\n",
       "    <tr>\n",
       "      <th>2</th>\n",
       "      <td>59a461bf3f5720a630005244</td>\n",
       "      <td>Late (Unexcused)</td>\n",
       "      <td>LU</td>\n",
       "      <td>Late</td>\n",
       "      <td>Unexcused</td>\n",
       "      <td>NaN</td>\n",
       "      <td>False</td>\n",
       "      <td>664cc55127c6b4a81806658b</td>\n",
       "      <td>664cc554abac347fac042cf8</td>\n",
       "      <td>2024-08-19</td>\n",
       "      <td>2021-04-22T19:15:05+00:00</td>\n",
       "      <td>2024-05-21T16:01:24+00:00</td>\n",
       "    </tr>\n",
       "    <tr>\n",
       "      <th>3</th>\n",
       "      <td>59a461823f5720a610005367</td>\n",
       "      <td>Early Dismissal (Excused)</td>\n",
       "      <td>EDE</td>\n",
       "      <td>Left</td>\n",
       "      <td>Excused</td>\n",
       "      <td>True</td>\n",
       "      <td>True</td>\n",
       "      <td>664cc55127c6b4a81806658b</td>\n",
       "      <td>664cc554abac347fac042cfa</td>\n",
       "      <td>2024-08-19</td>\n",
       "      <td>2021-04-22T19:15:05+00:00</td>\n",
       "      <td>2024-05-21T16:01:24+00:00</td>\n",
       "    </tr>\n",
       "    <tr>\n",
       "      <th>4</th>\n",
       "      <td>59a461bf3f5720a630005241</td>\n",
       "      <td>Present</td>\n",
       "      <td>P</td>\n",
       "      <td>Present</td>\n",
       "      <td>None</td>\n",
       "      <td>NaN</td>\n",
       "      <td>False</td>\n",
       "      <td>664cc55127c6b4a81806658b</td>\n",
       "      <td>664cc554abac347fac042cd8</td>\n",
       "      <td>2024-08-19</td>\n",
       "      <td>2021-04-22T19:15:05+00:00</td>\n",
       "      <td>2024-05-21T16:01:24+00:00</td>\n",
       "    </tr>\n",
       "  </tbody>\n",
       "</table>\n",
       "</div>"
      ],
      "text/plain": [
       "                         id                       name abbreviation    status  \\\n",
       "0  59a461bf3f5720a630005245             Late (Excused)           LE      Late   \n",
       "1  59a461823f5720a610005368                   Returned            R  Returned   \n",
       "2  59a461bf3f5720a630005244           Late (Unexcused)           LU      Late   \n",
       "3  59a461823f5720a610005367  Early Dismissal (Excused)          EDE      Left   \n",
       "4  59a461bf3f5720a630005241                    Present            P   Present   \n",
       "\n",
       "  statusModifier adminLocked  isSchoolAttendance              schoolYearId  \\\n",
       "0        Excused        True               False  664cc55127c6b4a81806658b   \n",
       "1           None       False                True  664cc55127c6b4a81806658b   \n",
       "2      Unexcused         NaN               False  664cc55127c6b4a81806658b   \n",
       "3        Excused        True                True  664cc55127c6b4a81806658b   \n",
       "4           None         NaN               False  664cc55127c6b4a81806658b   \n",
       "\n",
       "                changeLogId effectiveDate                    created  \\\n",
       "0  664cc554abac347fac042cf4    2024-08-19  2021-04-22T19:15:05+00:00   \n",
       "1  664cc554abac347fac042d04    2024-08-19  2021-04-22T19:15:05+00:00   \n",
       "2  664cc554abac347fac042cf8    2024-08-19  2021-04-22T19:15:05+00:00   \n",
       "3  664cc554abac347fac042cfa    2024-08-19  2021-04-22T19:15:05+00:00   \n",
       "4  664cc554abac347fac042cd8    2024-08-19  2021-04-22T19:15:05+00:00   \n",
       "\n",
       "                    modified  \n",
       "0  2024-05-21T16:01:24+00:00  \n",
       "1  2024-05-21T16:01:24+00:00  \n",
       "2  2024-05-21T16:01:24+00:00  \n",
       "3  2024-05-21T16:01:24+00:00  \n",
       "4  2024-05-21T16:01:24+00:00  "
      ]
     },
     "execution_count": 16,
     "metadata": {},
     "output_type": "execute_result"
    }
   ],
   "source": [
    "r_facs363_att_df.head()"
   ]
  },
  {
   "cell_type": "markdown",
   "id": "36c0b988",
   "metadata": {},
   "source": [
    "### Transform"
   ]
  },
  {
   "cell_type": "code",
   "execution_count": 19,
   "id": "a76edf93",
   "metadata": {},
   "outputs": [],
   "source": [
    "# concating dfs\n",
    "df = pd.concat([r_fca_att_df,r_facs363_att_df])\n",
    "\n",
    "# returning relevant columns\n",
    "df = df[['id','status','effectiveDate']]"
   ]
  },
  {
   "cell_type": "markdown",
   "id": "75aec98a",
   "metadata": {},
   "source": [
    "### Load"
   ]
  },
  {
   "cell_type": "code",
   "execution_count": 23,
   "id": "6be31ac1",
   "metadata": {},
   "outputs": [
    {
     "name": "stderr",
     "output_type": "stream",
     "text": [
      "100%|███████████████████████████████████████████| 1/1 [00:00<00:00, 4032.98it/s]\n"
     ]
    }
   ],
   "source": [
    "# loading into BigQuery database\n",
    "table_id = 'Alma_Data_API.Student_Attendance' #--> dataset id and table name\n",
    "\n",
    "df.to_gbq(table_id, project_id=credentials.project_id, if_exists='replace', credentials=credentials)"
   ]
  }
 ],
 "metadata": {
  "kernelspec": {
   "display_name": "Python 3 (ipykernel)",
   "language": "python",
   "name": "python3"
  },
  "language_info": {
   "codemirror_mode": {
    "name": "ipython",
    "version": 3
   },
   "file_extension": ".py",
   "mimetype": "text/x-python",
   "name": "python",
   "nbconvert_exporter": "python",
   "pygments_lexer": "ipython3",
   "version": "3.10.9"
  }
 },
 "nbformat": 4,
 "nbformat_minor": 5
}
