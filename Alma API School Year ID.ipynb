{
 "cells": [
  {
   "cell_type": "markdown",
   "id": "b3fda15c",
   "metadata": {},
   "source": [
    "### Alma Achool Year ID"
   ]
  },
  {
   "cell_type": "markdown",
   "id": "e693a2bb",
   "metadata": {},
   "source": [
    "Writing a code that communicates with the Alma url endpoint via an api to return the current school year id at each campus."
   ]
  },
  {
   "cell_type": "code",
   "execution_count": 1,
   "id": "18a2d00e",
   "metadata": {},
   "outputs": [],
   "source": [
    "#importing relevant packages\n",
    "import pandas as pd\n",
    "import requests\n",
    "import json\n",
    "from requests.auth import HTTPDigestAuth"
   ]
  },
  {
   "cell_type": "markdown",
   "id": "fd3695ca",
   "metadata": {},
   "source": [
    "#### FCA School Year ID"
   ]
  },
  {
   "cell_type": "code",
   "execution_count": 2,
   "id": "51c708a6",
   "metadata": {},
   "outputs": [],
   "source": [
    "# Defining credential api_key and auth_secret \n",
    "api_key = '075DWGKCVHTEH1W6497W'\n",
    "auth_secret = 'JlpYYSZUVjVWZGpQN2JKSndPRHM0TV9maChtU3VONkJvakhfaGVjUQ=='\n",
    "\n",
    "# URL of the API endpoint FCA\n",
    "url= 'https://facs.api.getalma.com/v2/fca/school-years' # --> will return grade level ids\n",
    "\n",
    "# Headers\n",
    "headers = {\n",
    "    'Content-Type':'application/json',\n",
    "    'Accept':'application/json, application/problem+json'\n",
    "}\n",
    "\n",
    "\n",
    "# Headers\n",
    "headers = {\n",
    "    'Content-Type':'application/json',\n",
    "    'Accept':'application/json, application/problem+json'\n",
    "}\n",
    "\n",
    "\n",
    "# Make the GET request with Digest Authentication\n",
    "response_sy = requests.get(url, headers=headers, auth=HTTPDigestAuth(api_key, auth_secret))\n",
    "r_sy_fca = response_sy.json()"
   ]
  },
  {
   "cell_type": "code",
   "execution_count": 3,
   "id": "0adb8474",
   "metadata": {},
   "outputs": [
    {
     "name": "stdout",
     "output_type": "stream",
     "text": [
      "FCA 2024-2025 SY ID: 65e8a8461e0c3dd517076bcf\n"
     ]
    }
   ],
   "source": [
    "# Returning current school year id FCA\n",
    "print('FCA 2024-2025 SY ID:',r_sy_fca['response'][-1]['id'])"
   ]
  },
  {
   "cell_type": "markdown",
   "id": "342f57fa",
   "metadata": {},
   "source": [
    "#### FACS 363 School Year ID"
   ]
  },
  {
   "cell_type": "code",
   "execution_count": 4,
   "id": "3f7c02d6",
   "metadata": {},
   "outputs": [],
   "source": [
    "# Defining credential api_key and auth_secret \n",
    "api_key = '075DWGKCVHTEH1W6497W'\n",
    "auth_secret = 'JlpYYSZUVjVWZGpQN2JKSndPRHM0TV9maChtU3VONkJvakhfaGVjUQ=='\n",
    "\n",
    "# URL of the API endpoint FCA\n",
    "url= 'https://facs.api.getalma.com/v2/facs363/school-years' # --> will return grade level ids\n",
    "\n",
    "# Headers\n",
    "headers = {\n",
    "    'Content-Type':'application/json',\n",
    "    'Accept':'application/json, application/problem+json'\n",
    "}\n",
    "\n",
    "\n",
    "# Headers\n",
    "headers = {\n",
    "    'Content-Type':'application/json',\n",
    "    'Accept':'application/json, application/problem+json'\n",
    "}\n",
    "\n",
    "\n",
    "# Make the GET request with Digest Authentication\n",
    "response_sy = requests.get(url, headers=headers, auth=HTTPDigestAuth(api_key, auth_secret))\n",
    "r_sy_363 = response_sy.json()"
   ]
  },
  {
   "cell_type": "code",
   "execution_count": 5,
   "id": "1a670a56",
   "metadata": {
    "scrolled": true
   },
   "outputs": [
    {
     "name": "stdout",
     "output_type": "stream",
     "text": [
      "FACS 363 2024-2025 SY ID: 664cc55127c6b4a81806658b\n"
     ]
    }
   ],
   "source": [
    "# Returning current school year id FACS 363\n",
    "print('FACS 363 2024-2025 SY ID:',r_sy_363['response'][-1]['id'])"
   ]
  }
 ],
 "metadata": {
  "kernelspec": {
   "display_name": "Python 3 (ipykernel)",
   "language": "python",
   "name": "python3"
  },
  "language_info": {
   "codemirror_mode": {
    "name": "ipython",
    "version": 3
   },
   "file_extension": ".py",
   "mimetype": "text/x-python",
   "name": "python",
   "nbconvert_exporter": "python",
   "pygments_lexer": "ipython3",
   "version": "3.10.9"
  }
 },
 "nbformat": 4,
 "nbformat_minor": 5
}
