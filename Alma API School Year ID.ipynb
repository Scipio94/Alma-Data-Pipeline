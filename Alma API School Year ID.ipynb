{
 "cells": [
  {
   "cell_type": "markdown",
   "id": "b3fda15c",
   "metadata": {},
   "source": [
    "### Alma Achool Year ID"
   ]
  },
  {
   "cell_type": "markdown",
   "id": "e693a2bb",
   "metadata": {},
   "source": [
    "Writing a code that communicates with the Alma url endpoint via an api to return the current school year id at each campus."
   ]
  },
  {
   "cell_type": "code",
   "execution_count": 1,
   "id": "18a2d00e",
   "metadata": {},
   "outputs": [],
   "source": [
    "#importing relevant packages\n",
    "import pandas as pd\n",
    "import requests\n",
    "import json\n",
    "from requests.auth import HTTPDigestAuth\n",
    "from dotenv import load_dotenv\n",
    "import os"
   ]
  },
  {
   "cell_type": "code",
   "execution_count": 2,
   "id": "f5a26556",
   "metadata": {},
   "outputs": [],
   "source": [
    "env_file_path = '/Users/scipio/Alma_API_Scripts/ALMA_API.env'"
   ]
  },
  {
   "cell_type": "code",
   "execution_count": 3,
   "id": "e666e726",
   "metadata": {},
   "outputs": [
    {
     "data": {
      "text/plain": [
       "True"
      ]
     },
     "execution_count": 3,
     "metadata": {},
     "output_type": "execute_result"
    }
   ],
   "source": [
    "load_dotenv(dotenv_path = env_file_path )"
   ]
  },
  {
   "cell_type": "code",
   "execution_count": 4,
   "id": "6c7ea4a4",
   "metadata": {},
   "outputs": [],
   "source": [
    "API_KEY = os.getenv('API_KEY')\n",
    "AUTH_SECRET = os.getenv('AUTH_SECRET')"
   ]
  },
  {
   "cell_type": "markdown",
   "id": "fd3695ca",
   "metadata": {},
   "source": [
    "#### FCA School Year ID"
   ]
  },
  {
   "cell_type": "code",
   "execution_count": 5,
   "id": "51c708a6",
   "metadata": {},
   "outputs": [],
   "source": [
    "# Defining credential api_key and auth_secret \n",
    "api_key = API_KEY\n",
    "auth_secret = AUTH_SECRET \n",
    "\n",
    "# URL of the API endpoint FCA\n",
    "url= 'https://facs.api.getalma.com/v2/fca/school-years' # --> will return grade level ids\n",
    "\n",
    "# Headers\n",
    "headers = {\n",
    "    'Content-Type':'application/json',\n",
    "    'Accept':'application/json, application/problem+json'\n",
    "}\n",
    "\n",
    "\n",
    "# Headers\n",
    "headers = {\n",
    "    'Content-Type':'application/json',\n",
    "    'Accept':'application/json, application/problem+json'\n",
    "}\n",
    "\n",
    "\n",
    "# Make the GET request with Digest Authentication\n",
    "response_sy = requests.get(url, headers=headers, auth=HTTPDigestAuth(api_key, auth_secret))\n",
    "r_sy_fca = response_sy.json()"
   ]
  },
  {
   "cell_type": "code",
   "execution_count": 6,
   "id": "9d6bd691",
   "metadata": {},
   "outputs": [
    {
     "data": {
      "text/plain": [
       "{'id': '65e8a8461e0c3dd517076bcf',\n",
       " 'name': '2024-2025 SY',\n",
       " 'startDate': '2024-08-19',\n",
       " 'endDate': '2025-06-19',\n",
       " 'status': 'Current',\n",
       " 'created': '2024-03-06T17:30:46+00:00',\n",
       " 'modified': '2024-07-25T17:16:23+00:00'}"
      ]
     },
     "execution_count": 6,
     "metadata": {},
     "output_type": "execute_result"
    }
   ],
   "source": [
    "r_sy_fca['response'][-1]"
   ]
  },
  {
   "cell_type": "code",
   "execution_count": 7,
   "id": "0adb8474",
   "metadata": {},
   "outputs": [
    {
     "name": "stdout",
     "output_type": "stream",
     "text": [
      "FCA 2024-2025 SY ID: 65e8a8461e0c3dd517076bcf\n"
     ]
    }
   ],
   "source": [
    "# Returning current school year id FCA\n",
    "print('FCA 2024-2025 SY ID:',r_sy_fca['response'][-1]['id'])"
   ]
  },
  {
   "cell_type": "markdown",
   "id": "342f57fa",
   "metadata": {},
   "source": [
    "#### FACS 363 School Year ID"
   ]
  },
  {
   "cell_type": "code",
   "execution_count": 8,
   "id": "3f7c02d6",
   "metadata": {},
   "outputs": [],
   "source": [
    "# Defining credential api_key and auth_secret \n",
    "api_key = API_KEY\n",
    "auth_secret = AUTH_SECRET \n",
    "\n",
    "# URL of the API endpoint FCA\n",
    "url= 'https://facs.api.getalma.com/v2/facs363/school-years' # --> will return grade level ids\n",
    "\n",
    "# Headers\n",
    "headers = {\n",
    "    'Content-Type':'application/json',\n",
    "    'Accept':'application/json, application/problem+json'\n",
    "}\n",
    "\n",
    "\n",
    "# Headers\n",
    "headers = {\n",
    "    'Content-Type':'application/json',\n",
    "    'Accept':'application/json, application/problem+json'\n",
    "}\n",
    "\n",
    "\n",
    "# Make the GET request with Digest Authentication\n",
    "response_sy = requests.get(url, headers=headers, auth=HTTPDigestAuth(api_key, auth_secret))\n",
    "r_sy_363 = response_sy.json()"
   ]
  },
  {
   "cell_type": "code",
   "execution_count": 9,
   "id": "1a670a56",
   "metadata": {
    "scrolled": false
   },
   "outputs": [
    {
     "data": {
      "text/plain": [
       "('FACS 363 2024-2025 SY ID:',\n",
       " {'id': '664cc55127c6b4a81806658b',\n",
       "  'name': '2024-2025',\n",
       "  'startDate': '2024-08-19',\n",
       "  'endDate': '2025-06-19',\n",
       "  'status': 'Current',\n",
       "  'created': '2024-05-21T16:01:21+00:00',\n",
       "  'modified': '2024-07-09T14:49:18+00:00'})"
      ]
     },
     "execution_count": 9,
     "metadata": {},
     "output_type": "execute_result"
    }
   ],
   "source": [
    "# Returning current school year id FACS 363\n",
    "'FACS 363 2024-2025 SY ID:',r_sy_363['response'][-1]"
   ]
  }
 ],
 "metadata": {
  "kernelspec": {
   "display_name": "Python 3 (ipykernel)",
   "language": "python",
   "name": "python3"
  },
  "language_info": {
   "codemirror_mode": {
    "name": "ipython",
    "version": 3
   },
   "file_extension": ".py",
   "mimetype": "text/x-python",
   "name": "python",
   "nbconvert_exporter": "python",
   "pygments_lexer": "ipython3",
   "version": "3.10.9"
  }
 },
 "nbformat": 4,
 "nbformat_minor": 5
}
