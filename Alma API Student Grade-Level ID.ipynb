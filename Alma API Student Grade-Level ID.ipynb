{
 "cells": [
  {
   "cell_type": "markdown",
   "id": "89c63424",
   "metadata": {},
   "source": [
    "## Finding Grade Level IDs"
   ]
  },
  {
   "cell_type": "markdown",
   "id": "b3d57652",
   "metadata": {},
   "source": [
    "Writing a code that communicates with the Alma url endpoint via an API to return grade level ids at each campus and uplaoding data extracted from the API to a BigQuery data warehousing software."
   ]
  },
  {
   "cell_type": "code",
   "execution_count": 1,
   "id": "3c597336",
   "metadata": {},
   "outputs": [],
   "source": [
    "#importing relevant packages\n",
    "import pandas as pd\n",
    "import requests\n",
    "import json\n",
    "from requests.auth import HTTPDigestAuth\n",
    "from google.cloud import bigquery\n",
    "from google.oauth2 import service_account"
   ]
  },
  {
   "cell_type": "markdown",
   "id": "29993581",
   "metadata": {},
   "source": [
    "**FCA Current School Year**: 65e8a8461e0c3dd517076bcf\n",
    "\n",
    "**363 Current School Year ID**: 664cc55127c6b4a81806658b"
   ]
  },
  {
   "cell_type": "code",
   "execution_count": 2,
   "id": "70d38d96",
   "metadata": {},
   "outputs": [],
   "source": [
    "# setting up BigQuery authentication\n",
    "credentials = service_account.Credentials.from_service_account_file(\n",
    "    '/Users/scipio/Downloads/single-being-353600-82aaccaecf53.json'\n",
    "                                                                   )\n",
    "#initializing BigQuery client\n",
    "client = bigquery.Client(credentials=credentials, project=credentials.project_id)"
   ]
  },
  {
   "cell_type": "markdown",
   "id": "f76701c7",
   "metadata": {},
   "source": [
    "### Grade Level ids of FCA"
   ]
  },
  {
   "cell_type": "code",
   "execution_count": 3,
   "id": "e96ea7c9",
   "metadata": {},
   "outputs": [],
   "source": [
    "# Defining credential api_key and auth_secret \n",
    "api_key = '075DWGKCVHTEH1W6497W'\n",
    "auth_secret = 'JlpYYSZUVjVWZGpQN2JKSndPRHM0TV9maChtU3VONkJvakhfaGVjUQ=='\n",
    "\n",
    "# URL of the API endpoint FCA with school year id query\n",
    "url= 'https://facs.api.getalma.com/v2/fca/grade-levels?schoolYearId=65e8a8461e0c3dd517076bcf' # --> will return grade level ids\n",
    "\n",
    "# Headers\n",
    "headers = {\n",
    "    'Content-Type':'application/json',\n",
    "    'Accept':'application/json, application/problem+json'\n",
    "}\n",
    "\n",
    "# Make the GET request with Digest Authentication\n",
    "response_fca = requests.get(url, headers=headers, auth=HTTPDigestAuth(api_key, auth_secret))\n",
    "\n",
    "# Making response into a json object\n",
    "r_fca = response_fca.json()"
   ]
  },
  {
   "cell_type": "code",
   "execution_count": 4,
   "id": "583ae98d",
   "metadata": {},
   "outputs": [],
   "source": [
    "# seperating key value pairs\n",
    "for key,value in r_fca.items():\n",
    "    value #--> list of dictionaries"
   ]
  },
  {
   "cell_type": "markdown",
   "id": "ba1dd1d6",
   "metadata": {},
   "source": [
    "### Transformation"
   ]
  },
  {
   "cell_type": "code",
   "execution_count": 5,
   "id": "4b03fd06",
   "metadata": {
    "scrolled": true
   },
   "outputs": [],
   "source": [
    "# converting list of dictionaries into a json string\n",
    "grade_levels_data = json.dumps(value, indent = 4)\n",
    "\n",
    "# loading json string in a dictionary object\n",
    "grade_levels_data_load = json.loads(grade_levels_data)\n",
    "\n",
    "# creating df from dictionary object\n",
    "grade_df_fca = pd.DataFrame(data = grade_levels_data_load)\n",
    "\n",
    "# returning relevant columns and dropping duplicates\n",
    "grade_df_fca = grade_df_fca[['id','gradeLevelAbbr']].drop_duplicates()\n",
    "\n",
    "# casting data type of the gradeLevelAbbr column\n",
    "grade_df_fca['gradeLevelAbbr'] = grade_df_fca['gradeLevelAbbr'].astype('int64')\n",
    "\n",
    "# stripping white space from the id column\n",
    "grade_df_fca['id'] = grade_df_fca['id'].str.strip()\n",
    "\n",
    "grade_df_fca.rename(columns = {'gradeLevelAbbr':'Grade', 'id':'Grade_Level_ID'}, inplace = True )"
   ]
  },
  {
   "cell_type": "markdown",
   "id": "42a05d43",
   "metadata": {},
   "source": [
    "### Grade Levels FACS363"
   ]
  },
  {
   "cell_type": "code",
   "execution_count": 6,
   "id": "943058f4",
   "metadata": {},
   "outputs": [],
   "source": [
    "# Defining credential api_key and auth_secret \n",
    "api_key = '075DWGKCVHTEH1W6497W'\n",
    "auth_secret = 'JlpYYSZUVjVWZGpQN2JKSndPRHM0TV9maChtU3VONkJvakhfaGVjUQ=='\n",
    "\n",
    "# URL of the API endpoint FACS 363 with school year id query\n",
    "url= 'https://facs.api.getalma.com/v2/facs363/grade-levels?schoolYearId=664cc55127c6b4a81806658b' # --> will return grade level ids\n",
    "\n",
    "# Headers\n",
    "headers = {\n",
    "    'Content-Type':'application/json',\n",
    "    'Accept':'application/json, application/problem+json'\n",
    "}\n",
    "\n",
    "# Make the GET request with Digest Authentication\n",
    "response_facs_363 = requests.get(url, headers=headers, auth=HTTPDigestAuth(api_key, auth_secret))\n",
    "\n",
    "# Making response into a json object\n",
    "r_facs_363 = response_facs_363.json()"
   ]
  },
  {
   "cell_type": "code",
   "execution_count": 7,
   "id": "9e35c04e",
   "metadata": {},
   "outputs": [],
   "source": [
    "# seperating key value pairs\n",
    "for key,value in r_facs_363.items():\n",
    "    value #--> list of dictionaries"
   ]
  },
  {
   "cell_type": "markdown",
   "id": "fc2b3d1a",
   "metadata": {},
   "source": [
    "### Transformation"
   ]
  },
  {
   "cell_type": "code",
   "execution_count": 8,
   "id": "2a08f72c",
   "metadata": {},
   "outputs": [],
   "source": [
    "# converting list of dictionaries into a json string\n",
    "grade_levels_data_363 = json.dumps(value, indent = 4)\n",
    "\n",
    "# loading json string in a dictionary object\n",
    "grade_levels_data_load_363 = json.loads(grade_levels_data_363)\n",
    "\n",
    "# creating df from dictionary object\n",
    "grade_df_facs_363 = pd.DataFrame(data = grade_levels_data_load_363)\n",
    "\n",
    "# stripping white space from the id column\n",
    "grade_df_facs_363['id'] = grade_df_facs_363['id'].str.strip()\n",
    "\n",
    "\n",
    "#returning relevant columns\n",
    "grade_df_facs_363 = grade_df_facs_363[['id','equivalent']]\n",
    "\n",
    "\n",
    "grade_df_facs_363.rename(columns = {'equivalent':'Grade', 'id':'Grade_Level_ID'}, inplace = True)"
   ]
  },
  {
   "cell_type": "code",
   "execution_count": 9,
   "id": "0de10eda",
   "metadata": {},
   "outputs": [],
   "source": [
    "# concating df\n",
    "grade_level_id = pd.concat([grade_df_fca,grade_df_facs_363])\n",
    "\n",
    "# data cleaning\n",
    "grade_level_id['Grade'] = grade_level_id['Grade'].astype('string')"
   ]
  },
  {
   "cell_type": "code",
   "execution_count": 10,
   "id": "e0012321",
   "metadata": {},
   "outputs": [
    {
     "data": {
      "text/plain": [
       "(14, 2)"
      ]
     },
     "execution_count": 10,
     "metadata": {},
     "output_type": "execute_result"
    }
   ],
   "source": [
    "grade_level_id.shape"
   ]
  },
  {
   "cell_type": "code",
   "execution_count": 11,
   "id": "d99d3e6e",
   "metadata": {
    "scrolled": true
   },
   "outputs": [
    {
     "name": "stdout",
     "output_type": "stream",
     "text": [
      "<class 'pandas.core.frame.DataFrame'>\n",
      "Int64Index: 14 entries, 0 to 8\n",
      "Data columns (total 2 columns):\n",
      " #   Column          Non-Null Count  Dtype \n",
      "---  ------          --------------  ----- \n",
      " 0   Grade_Level_ID  14 non-null     object\n",
      " 1   Grade           14 non-null     string\n",
      "dtypes: object(1), string(1)\n",
      "memory usage: 336.0+ bytes\n"
     ]
    }
   ],
   "source": [
    "grade_level_id.info()"
   ]
  },
  {
   "cell_type": "code",
   "execution_count": 12,
   "id": "2b7161bd",
   "metadata": {
    "scrolled": false
   },
   "outputs": [
    {
     "data": {
      "text/html": [
       "<div>\n",
       "<style scoped>\n",
       "    .dataframe tbody tr th:only-of-type {\n",
       "        vertical-align: middle;\n",
       "    }\n",
       "\n",
       "    .dataframe tbody tr th {\n",
       "        vertical-align: top;\n",
       "    }\n",
       "\n",
       "    .dataframe thead th {\n",
       "        text-align: right;\n",
       "    }\n",
       "</style>\n",
       "<table border=\"1\" class=\"dataframe\">\n",
       "  <thead>\n",
       "    <tr style=\"text-align: right;\">\n",
       "      <th></th>\n",
       "      <th>Grade_Level_ID</th>\n",
       "      <th>Grade</th>\n",
       "    </tr>\n",
       "  </thead>\n",
       "  <tbody>\n",
       "    <tr>\n",
       "      <th>0</th>\n",
       "      <td>6081d37bd9b71b7de30f56b0</td>\n",
       "      <td>9</td>\n",
       "    </tr>\n",
       "    <tr>\n",
       "      <th>1</th>\n",
       "      <td>6081d37bd9b71b7de30f56b4</td>\n",
       "      <td>11</td>\n",
       "    </tr>\n",
       "    <tr>\n",
       "      <th>2</th>\n",
       "      <td>6081d37bd9b71b7de30f56b6</td>\n",
       "      <td>12</td>\n",
       "    </tr>\n",
       "    <tr>\n",
       "      <th>3</th>\n",
       "      <td>6081d3809e7f71084d21269f</td>\n",
       "      <td>8</td>\n",
       "    </tr>\n",
       "    <tr>\n",
       "      <th>4</th>\n",
       "      <td>6081d37bd9b71b7de30f56b2</td>\n",
       "      <td>10</td>\n",
       "    </tr>\n",
       "    <tr>\n",
       "      <th>0</th>\n",
       "      <td>6081cb956cc33874607017eb</td>\n",
       "      <td>5</td>\n",
       "    </tr>\n",
       "    <tr>\n",
       "      <th>1</th>\n",
       "      <td>6081cb94843bc771153624e0</td>\n",
       "      <td>K</td>\n",
       "    </tr>\n",
       "    <tr>\n",
       "      <th>2</th>\n",
       "      <td>6081cb94843bc771153624e2</td>\n",
       "      <td>1</td>\n",
       "    </tr>\n",
       "    <tr>\n",
       "      <th>3</th>\n",
       "      <td>6081cb956cc33874607017e9</td>\n",
       "      <td>4</td>\n",
       "    </tr>\n",
       "    <tr>\n",
       "      <th>4</th>\n",
       "      <td>6081d3809e7f71084d21269d</td>\n",
       "      <td>7</td>\n",
       "    </tr>\n",
       "    <tr>\n",
       "      <th>5</th>\n",
       "      <td>6081d3809e7f71084d21269b</td>\n",
       "      <td>6</td>\n",
       "    </tr>\n",
       "    <tr>\n",
       "      <th>6</th>\n",
       "      <td>6081d3809e7f71084d21269f</td>\n",
       "      <td>8</td>\n",
       "    </tr>\n",
       "    <tr>\n",
       "      <th>7</th>\n",
       "      <td>6081cb94843bc771153624e4</td>\n",
       "      <td>2</td>\n",
       "    </tr>\n",
       "    <tr>\n",
       "      <th>8</th>\n",
       "      <td>6081cb956cc33874607017e7</td>\n",
       "      <td>3</td>\n",
       "    </tr>\n",
       "  </tbody>\n",
       "</table>\n",
       "</div>"
      ],
      "text/plain": [
       "             Grade_Level_ID Grade\n",
       "0  6081d37bd9b71b7de30f56b0     9\n",
       "1  6081d37bd9b71b7de30f56b4    11\n",
       "2  6081d37bd9b71b7de30f56b6    12\n",
       "3  6081d3809e7f71084d21269f     8\n",
       "4  6081d37bd9b71b7de30f56b2    10\n",
       "0  6081cb956cc33874607017eb     5\n",
       "1  6081cb94843bc771153624e0     K\n",
       "2  6081cb94843bc771153624e2     1\n",
       "3  6081cb956cc33874607017e9     4\n",
       "4  6081d3809e7f71084d21269d     7\n",
       "5  6081d3809e7f71084d21269b     6\n",
       "6  6081d3809e7f71084d21269f     8\n",
       "7  6081cb94843bc771153624e4     2\n",
       "8  6081cb956cc33874607017e7     3"
      ]
     },
     "execution_count": 12,
     "metadata": {},
     "output_type": "execute_result"
    }
   ],
   "source": [
    "grade_level_id"
   ]
  },
  {
   "cell_type": "markdown",
   "id": "b7bbe913",
   "metadata": {},
   "source": [
    "### Load"
   ]
  },
  {
   "cell_type": "code",
   "execution_count": 13,
   "id": "b1ee6277",
   "metadata": {
    "scrolled": true
   },
   "outputs": [
    {
     "name": "stderr",
     "output_type": "stream",
     "text": [
      "100%|███████████████████████████████████████████| 1/1 [00:00<00:00, 5468.45it/s]\n"
     ]
    }
   ],
   "source": [
    "# loading into BigQuery database\n",
    "table_id = 'Alma_Data_API.Grade_Level_ID'#--> dataset id and table name\n",
    "\n",
    "grade_level_id.to_gbq(table_id, project_id=credentials.project_id, if_exists='replace', credentials=credentials)"
   ]
  }
 ],
 "metadata": {
  "kernelspec": {
   "display_name": "Python 3 (ipykernel)",
   "language": "python",
   "name": "python3"
  },
  "language_info": {
   "codemirror_mode": {
    "name": "ipython",
    "version": 3
   },
   "file_extension": ".py",
   "mimetype": "text/x-python",
   "name": "python",
   "nbconvert_exporter": "python",
   "pygments_lexer": "ipython3",
   "version": "3.10.9"
  }
 },
 "nbformat": 4,
 "nbformat_minor": 5
}
