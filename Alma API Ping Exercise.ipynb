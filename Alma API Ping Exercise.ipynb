{
 "cells": [
  {
   "cell_type": "markdown",
   "id": "d5dbf87c",
   "metadata": {},
   "source": [
    "## Alma API\n",
    "\n",
    "The Alma API uses **cURL** language to communicate between Alma and the programmng interface, in this case python. However, the API can be accessed via the requests package in combination with the HTTPDigestAuth module from the requests package for **digest authentication** based on the following steps:\n",
    "\n",
    "1. Defining credentials, api_key and auth_secret\n",
    "2. Defining end point url\n",
    "3. Defining headers\n",
    "4. Executing GET statement"
   ]
  },
  {
   "cell_type": "markdown",
   "id": "223980d2",
   "metadata": {},
   "source": [
    "## Key Terms\n",
    "\n",
    "- **cURL (Client URL)**: Transferring data using various network protocols\n",
    "\n",
    "- **Digest Authentification**: A challenge-response mechanism that allows web servers to confirm a user's identity before sending sensitive information\n",
    "\n",
    "- **Headers**: Usually in a *{'key':'value'}* dictionary pair, headers provide essential information between client and server.\n",
    "    - **Purpose(Key)**: Specifies the media type of the resource being sent to the server.\n",
    "    - **Significance(Value)**: Informs the server that the body of the request contains JSON data. This is particularly important for **POST**, **PUT**, and **PATCH** requests where data is being sent to the server. For a **GET** request, this header is not as critical but can still be included for completeness.\n",
    "\n",
    "- **auth**: Used to pass an authentication handler to the request. In your case, HTTPDigestAuth is used for Digest Authenticationto pass the api_key and auth_secret objects!"
   ]
  },
  {
   "cell_type": "code",
   "execution_count": 2,
   "id": "1e039ad8",
   "metadata": {},
   "outputs": [],
   "source": [
    "#importing relevant packages\n",
    "import pandas as pd\n",
    "import requests\n",
    "import json\n",
    "from requests.auth import HTTPDigestAuth"
   ]
  },
  {
   "cell_type": "code",
   "execution_count": 3,
   "id": "31c4fe2b",
   "metadata": {},
   "outputs": [
    {
     "name": "stdout",
     "output_type": "stream",
     "text": [
      "Status Code: 200\n",
      "Response Content: {\"ack\":1722970680,\"headers\":{\"accept\":\"application/json, application/problem+json\",\"authorization\":\"Digest username=\\u0022075DWGKCVHTEH1W6497W\\u0022, realm=\\u0022facs\\u0022, nonce=\\u0022bd5ceed9897026d88823f74bb99aea3a\\u0022, uri=\\u0022/v2/facs/ping\\u0022, response=\\u0022940671df868156d0d3edda15e4c0b105\\u0022, opaque=\\u00229627890cfd68d3e51204c491e722db25\\u0022, qop=\\u0022auth\\u0022, nc=00000001, cnonce=\\u0022baa80ccc52526cff\\u0022\",\"content-type\":\"application/json\"},\"method\":\"GET\",\"_links\":{\"rel\":\"self\",\"href\":\"/ping\"}}\n"
     ]
    }
   ],
   "source": [
    "# Defining credential api_key and auth_secret \n",
    "api_key = '075DWGKCVHTEH1W6497W'\n",
    "auth_secret = 'JlpYYSZUVjVWZGpQN2JKSndPRHM0TV9maChtU3VONkJvakhfaGVjUQ=='\n",
    "\n",
    "# URL of the API endpoint\n",
    "url = 'https://facs.api.getalma.com/v2/facs/ping'\n",
    "\n",
    "# Headers to be sent with the request -- provide essential information -- dictionary pairs {'key':'value'}\n",
    "headers = {\n",
    "    'Content-Type': 'application/json', #--> {'Purpose':Significance}\n",
    "    'Accept': 'application/json, application/problem+json'\n",
    "}\n",
    "\n",
    "\n",
    "# Make the GET request with Digest Authentication\n",
    "response = requests.get(url, headers=headers, auth=HTTPDigestAuth(api_key, auth_secret))\n",
    "\n",
    "# Print the response status code and content\n",
    "print(f\"Status Code: {response.status_code}\")\n",
    "print(f\"Response Content: {response.text}\")\n"
   ]
  }
 ],
 "metadata": {
  "kernelspec": {
   "display_name": "Python 3 (ipykernel)",
   "language": "python",
   "name": "python3"
  },
  "language_info": {
   "codemirror_mode": {
    "name": "ipython",
    "version": 3
   },
   "file_extension": ".py",
   "mimetype": "text/x-python",
   "name": "python",
   "nbconvert_exporter": "python",
   "pygments_lexer": "ipython3",
   "version": "3.10.9"
  }
 },
 "nbformat": 4,
 "nbformat_minor": 5
}
