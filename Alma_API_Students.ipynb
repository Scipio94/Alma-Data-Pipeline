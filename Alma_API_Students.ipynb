{
 "cells": [
  {
   "cell_type": "markdown",
   "id": "b6b7f6b1",
   "metadata": {},
   "source": [
    "## Alma API Students\n",
    "\n",
    "Writing a code that communicates with the Alma url endpoint via an api to return student demographic data at each campus and uplaoding data extracted from the API to a BigQuery data warehousing software."
   ]
  },
  {
   "cell_type": "code",
   "execution_count": 1,
   "id": "3aefa723",
   "metadata": {},
   "outputs": [],
   "source": [
    "#importing relevant packages\n",
    "from google.cloud import bigquery #--> python client for bigquery\n",
    "import pandas as pd\n",
    "import requests\n",
    "import json\n",
    "from requests.auth import HTTPDigestAuth\n",
    "from google.cloud import bigquery\n",
    "from google.oauth2 import service_account\n",
    "from dotenv import load_dotenv\n",
    "import os"
   ]
  },
  {
   "cell_type": "code",
   "execution_count": 2,
   "id": "368e74bf",
   "metadata": {},
   "outputs": [],
   "source": [
    "env_file_path = '/Users/scipio/Alma_API_Scripts/ALMA_API.env'"
   ]
  },
  {
   "cell_type": "code",
   "execution_count": 3,
   "id": "6bd6c507",
   "metadata": {},
   "outputs": [
    {
     "data": {
      "text/plain": [
       "True"
      ]
     },
     "execution_count": 3,
     "metadata": {},
     "output_type": "execute_result"
    }
   ],
   "source": [
    "load_dotenv(dotenv_path = env_file_path )"
   ]
  },
  {
   "cell_type": "code",
   "execution_count": 4,
   "id": "6571f785",
   "metadata": {},
   "outputs": [],
   "source": [
    "# retrieving releavnt variables from the .env file\n",
    "API_KEY = os.getenv('API_KEY')\n",
    "AUTH_SECRET = os.getenv('AUTH_SECRET')"
   ]
  },
  {
   "cell_type": "markdown",
   "id": "2a014efe",
   "metadata": {},
   "source": [
    "**FCA Current School Year**: 65e8a8461e0c3dd517076bcf \n",
    "\n",
    "**363 Current School Year ID**: 664cc55127c6b4a81806658b"
   ]
  },
  {
   "cell_type": "code",
   "execution_count": 5,
   "id": "1c9174c3",
   "metadata": {},
   "outputs": [],
   "source": [
    "# setting up BigQuery authentication\n",
    "credentials = service_account.Credentials.from_service_account_file(\n",
    "    '/Users/scipio/Downloads/single-being-353600-82aaccaecf53.json'\n",
    "                                                                   )\n",
    "#initializing BigQuery client\n",
    "client = bigquery.Client(credentials=credentials, project=credentials.project_id)"
   ]
  },
  {
   "cell_type": "markdown",
   "id": "fb27cfbd",
   "metadata": {},
   "source": [
    "### Extraction of Student Data FCA"
   ]
  },
  {
   "cell_type": "code",
   "execution_count": 6,
   "id": "149ff859",
   "metadata": {},
   "outputs": [],
   "source": [
    "# Defining credential api_key and auth_secret \n",
    "api_key = API_KEY\n",
    "auth_secret = AUTH_SECRET\n",
    "\n",
    "\n",
    "# URL of the API endpoint FCA 2024-2025 SY\n",
    "url= 'https://facs.api.getalma.com/v2/fca/students?schoolYearId=65e8a8461e0c3dd517076bcf' \n",
    "\n",
    "# Headers\n",
    "headers = {\n",
    "    'Content-Type':'application/json',\n",
    "    'Accept':'application/json, application/problem+json'\n",
    "}\n",
    "\n",
    "# Make the GET request with Digest Authentication\n",
    "response_fca = requests.get(url, headers=headers, auth=HTTPDigestAuth(api_key, auth_secret))\n",
    "\n",
    "# Making response into a json object\n",
    "r_fca = response_fca.json()\n",
    "\n",
    "# Extracting value from r_fca\n",
    "for key,value in r_fca.items():\n",
    "    value #--> list of dictionaries\n",
    "\n",
    "# coverting python object to a dataframe\n",
    "df_r_fca = pd.DataFrame(value)\n",
    "\n",
    "#data cleaning\n",
    "df_r_fca = df_r_fca[df_r_fca['graduationYear']>2024] # --> filtering out seniors\n",
    "df_r_fca['race'] = df_r_fca['race'].str[0] #--> making race a string\n",
    "df_r_fca['languages'] = df_r_fca['languages'].str[0] #--> making langauges a string\n",
    "df_r_fca['id'] = df_r_fca['id'].str.strip()\n",
    "\n",
    "\n",
    "# function for race column\n",
    "def race(row):\n",
    "    \n",
    "    \"\"\"\n",
    "    If a person's ehtincity is 'Hispanic Or Latino' so is their race\n",
    "    \"\"\"\n",
    "    if row['ethnicity'] == 'Hispanic Or Latino':\n",
    "        return 'Hispanic Or Latino'\n",
    "    else:\n",
    "        return row['race']\n",
    "    \n",
    "df_r_fca['race'] = df_r_fca.apply(race, axis = 1)"
   ]
  },
  {
   "cell_type": "markdown",
   "id": "1b4ab130",
   "metadata": {},
   "source": [
    "### Extraction of Student Data 363"
   ]
  },
  {
   "cell_type": "code",
   "execution_count": 7,
   "id": "d85cf7ea",
   "metadata": {},
   "outputs": [],
   "source": [
    "# Defining credential api_key and auth_secret \n",
    "api_key = API_KEY\n",
    "auth_secret = AUTH_SECRET\n",
    "\n",
    "# URL of the API endpoint FACS 2024-2025 SY\n",
    "url= 'https://facs.api.getalma.com/v2/facs363/students?schoolYearId=664cc55127c6b4a81806658b' \n",
    "\n",
    "# Headers\n",
    "headers = {\n",
    "    'Content-Type':'application/json',\n",
    "    'Accept':'application/json, application/problem+json'\n",
    "}\n",
    "\n",
    "# Make the GET request with Digest Authentication\n",
    "response_363 = requests.get(url, headers=headers, auth=HTTPDigestAuth(api_key, auth_secret))\n",
    "\n",
    "# Making response into a json object\n",
    "r_363 = response_363.json()\n",
    "\n",
    "# extracting value from r_363\n",
    "for key,value in r_363.items():\n",
    "    value #--> list of dictionaries\n",
    "    \n",
    "\n",
    "# coverting python object to a dataframe\n",
    "df_r_363 = pd.DataFrame(value)\n",
    "\n",
    "#data cleaning\n",
    "df_r_363['race'] = df_r_363['race'].str[0]\n",
    "df_r_363['languages'] = df_r_363['languages'].str[0]\n",
    "df_r_363['id'] = df_r_363['id'].str.strip()\n",
    "\n",
    "# function for race column\n",
    "def race(row):\n",
    "    \n",
    "    \"\"\"\n",
    "    If a person's ehtincity is 'Hispanic Or Latino' so is their race\n",
    "    \"\"\"\n",
    "    if row['ethnicity'] == 'Hispanic Or Latino':\n",
    "        return 'Hispanic Or Latino'\n",
    "    else:\n",
    "        return row['race']\n",
    "    \n",
    "df_r_363['race'] = df_r_363.apply(race, axis = 1)"
   ]
  },
  {
   "cell_type": "markdown",
   "id": "cd2b180e",
   "metadata": {},
   "source": [
    "### Transformation"
   ]
  },
  {
   "cell_type": "code",
   "execution_count": 8,
   "id": "1d85fba6",
   "metadata": {},
   "outputs": [],
   "source": [
    "#concating df_r_fca and df_r_363\n",
    "df = pd.concat([df_r_fca,df_r_363])\n",
    "\n",
    "# returning active or not active students\n",
    "df = df[(df['status']=='Active')|(df['status']=='Not Activated')]\n",
    "\n",
    "# retunring relevant columns\n",
    "df = df[['id','schoolId','stateId','firstName', 'lastName','gender', \n",
    "    'ethnicity', 'race', 'languages','dob','graduationYear', 'status']]\n",
    "\n",
    "# filteirng out duplicated values \n",
    "df = df[~df.duplicated()]"
   ]
  },
  {
   "cell_type": "code",
   "execution_count": 9,
   "id": "28457cf4",
   "metadata": {
    "scrolled": true
   },
   "outputs": [
    {
     "data": {
      "text/plain": [
       "(1141, 12)"
      ]
     },
     "execution_count": 9,
     "metadata": {},
     "output_type": "execute_result"
    }
   ],
   "source": [
    "df.shape"
   ]
  },
  {
   "cell_type": "code",
   "execution_count": 10,
   "id": "fc5a0e7d",
   "metadata": {
    "scrolled": false
   },
   "outputs": [
    {
     "data": {
      "text/html": [
       "<div>\n",
       "<style scoped>\n",
       "    .dataframe tbody tr th:only-of-type {\n",
       "        vertical-align: middle;\n",
       "    }\n",
       "\n",
       "    .dataframe tbody tr th {\n",
       "        vertical-align: top;\n",
       "    }\n",
       "\n",
       "    .dataframe thead th {\n",
       "        text-align: right;\n",
       "    }\n",
       "</style>\n",
       "<table border=\"1\" class=\"dataframe\">\n",
       "  <thead>\n",
       "    <tr style=\"text-align: right;\">\n",
       "      <th></th>\n",
       "      <th>id</th>\n",
       "      <th>schoolId</th>\n",
       "      <th>stateId</th>\n",
       "      <th>firstName</th>\n",
       "      <th>lastName</th>\n",
       "      <th>gender</th>\n",
       "      <th>ethnicity</th>\n",
       "      <th>race</th>\n",
       "      <th>languages</th>\n",
       "      <th>dob</th>\n",
       "      <th>graduationYear</th>\n",
       "      <th>status</th>\n",
       "    </tr>\n",
       "  </thead>\n",
       "  <tbody>\n",
       "    <tr>\n",
       "      <th>0</th>\n",
       "      <td>60ca0e8a004d271aa50c7693</td>\n",
       "      <td>2612016</td>\n",
       "      <td>6684846964</td>\n",
       "      <td>Daniel</td>\n",
       "      <td>Young</td>\n",
       "      <td>Male</td>\n",
       "      <td>Not Specified</td>\n",
       "      <td>Black or African American</td>\n",
       "      <td>English</td>\n",
       "      <td>2008-05-07</td>\n",
       "      <td>2026.0</td>\n",
       "      <td>Active</td>\n",
       "    </tr>\n",
       "    <tr>\n",
       "      <th>1</th>\n",
       "      <td>60ca0e8abbf8f9301c6331b2</td>\n",
       "      <td>1422015</td>\n",
       "      <td>6053098154</td>\n",
       "      <td>Aurelio</td>\n",
       "      <td>Williams</td>\n",
       "      <td>Male</td>\n",
       "      <td>Hispanic Or Latino</td>\n",
       "      <td>Hispanic Or Latino</td>\n",
       "      <td>English</td>\n",
       "      <td>2006-10-23</td>\n",
       "      <td>2026.0</td>\n",
       "      <td>Active</td>\n",
       "    </tr>\n",
       "    <tr>\n",
       "      <th>2</th>\n",
       "      <td>60ca0e8a6ce99937aa1276a0</td>\n",
       "      <td>2102015</td>\n",
       "      <td>8038168482</td>\n",
       "      <td>Kaliyah</td>\n",
       "      <td>Shy</td>\n",
       "      <td>Female</td>\n",
       "      <td>Not Specified</td>\n",
       "      <td>Black or African American</td>\n",
       "      <td>English</td>\n",
       "      <td>2010-07-21</td>\n",
       "      <td>2028.0</td>\n",
       "      <td>Active</td>\n",
       "    </tr>\n",
       "    <tr>\n",
       "      <th>3</th>\n",
       "      <td>60ca0e8a30c7b82ad6073582</td>\n",
       "      <td>3332015</td>\n",
       "      <td>3006053492</td>\n",
       "      <td>Gerall</td>\n",
       "      <td>Aguero</td>\n",
       "      <td>Male</td>\n",
       "      <td>Hispanic Or Latino</td>\n",
       "      <td>Hispanic Or Latino</td>\n",
       "      <td>English</td>\n",
       "      <td>2008-10-27</td>\n",
       "      <td>2027.0</td>\n",
       "      <td>Active</td>\n",
       "    </tr>\n",
       "    <tr>\n",
       "      <th>5</th>\n",
       "      <td>60ca0e8be34ae24d802e9c17</td>\n",
       "      <td>2302018</td>\n",
       "      <td>2661826754</td>\n",
       "      <td>Briana</td>\n",
       "      <td>Thomas</td>\n",
       "      <td>Female</td>\n",
       "      <td>Not Specified</td>\n",
       "      <td>Black or African American</td>\n",
       "      <td>English</td>\n",
       "      <td>2008-08-06</td>\n",
       "      <td>2026.0</td>\n",
       "      <td>Active</td>\n",
       "    </tr>\n",
       "  </tbody>\n",
       "</table>\n",
       "</div>"
      ],
      "text/plain": [
       "                         id schoolId     stateId firstName  lastName  gender  \\\n",
       "0  60ca0e8a004d271aa50c7693  2612016  6684846964    Daniel     Young    Male   \n",
       "1  60ca0e8abbf8f9301c6331b2  1422015  6053098154   Aurelio  Williams    Male   \n",
       "2  60ca0e8a6ce99937aa1276a0  2102015  8038168482   Kaliyah       Shy  Female   \n",
       "3  60ca0e8a30c7b82ad6073582  3332015  3006053492    Gerall    Aguero    Male   \n",
       "5  60ca0e8be34ae24d802e9c17  2302018  2661826754    Briana    Thomas  Female   \n",
       "\n",
       "            ethnicity                       race languages         dob  \\\n",
       "0       Not Specified  Black or African American   English  2008-05-07   \n",
       "1  Hispanic Or Latino         Hispanic Or Latino   English  2006-10-23   \n",
       "2       Not Specified  Black or African American   English  2010-07-21   \n",
       "3  Hispanic Or Latino         Hispanic Or Latino   English  2008-10-27   \n",
       "5       Not Specified  Black or African American   English  2008-08-06   \n",
       "\n",
       "   graduationYear  status  \n",
       "0          2026.0  Active  \n",
       "1          2026.0  Active  \n",
       "2          2028.0  Active  \n",
       "3          2027.0  Active  \n",
       "5          2026.0  Active  "
      ]
     },
     "execution_count": 10,
     "metadata": {},
     "output_type": "execute_result"
    }
   ],
   "source": [
    "df.head()"
   ]
  },
  {
   "cell_type": "code",
   "execution_count": 11,
   "id": "4b42d31b",
   "metadata": {
    "scrolled": true
   },
   "outputs": [
    {
     "name": "stdout",
     "output_type": "stream",
     "text": [
      "<class 'pandas.core.frame.DataFrame'>\n",
      "Int64Index: 1141 entries, 0 to 1277\n",
      "Data columns (total 12 columns):\n",
      " #   Column          Non-Null Count  Dtype  \n",
      "---  ------          --------------  -----  \n",
      " 0   id              1141 non-null   object \n",
      " 1   schoolId        1141 non-null   object \n",
      " 2   stateId         970 non-null    object \n",
      " 3   firstName       1141 non-null   object \n",
      " 4   lastName        1141 non-null   object \n",
      " 5   gender          1141 non-null   object \n",
      " 6   ethnicity       1141 non-null   object \n",
      " 7   race            1139 non-null   object \n",
      " 8   languages       960 non-null    object \n",
      " 9   dob             1141 non-null   object \n",
      " 10  graduationYear  952 non-null    float64\n",
      " 11  status          1141 non-null   object \n",
      "dtypes: float64(1), object(11)\n",
      "memory usage: 115.9+ KB\n"
     ]
    }
   ],
   "source": [
    "df.info()"
   ]
  },
  {
   "cell_type": "markdown",
   "id": "558f602b",
   "metadata": {},
   "source": [
    "### Load"
   ]
  },
  {
   "cell_type": "code",
   "execution_count": 12,
   "id": "b8a1d3fa",
   "metadata": {
    "scrolled": false
   },
   "outputs": [
    {
     "name": "stderr",
     "output_type": "stream",
     "text": [
      "100%|███████████████████████████████████████████| 1/1 [00:00<00:00, 4084.04it/s]\n"
     ]
    }
   ],
   "source": [
    "# loading into BigQuery database\n",
    "table_id = 'Alma_Data_API.Students'#--> dataset id and table name\n",
    "\n",
    "df.to_gbq(table_id, project_id=credentials.project_id, if_exists='replace', credentials=credentials)"
   ]
  }
 ],
 "metadata": {
  "kernelspec": {
   "display_name": "Python 3 (ipykernel)",
   "language": "python",
   "name": "python3"
  },
  "language_info": {
   "codemirror_mode": {
    "name": "ipython",
    "version": 3
   },
   "file_extension": ".py",
   "mimetype": "text/x-python",
   "name": "python",
   "nbconvert_exporter": "python",
   "pygments_lexer": "ipython3",
   "version": "3.10.9"
  }
 },
 "nbformat": 4,
 "nbformat_minor": 5
}
